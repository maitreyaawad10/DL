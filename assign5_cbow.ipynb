{
 "cells": [
  {
   "cell_type": "markdown",
   "metadata": {
    "id": "UpBewrT2PeOs"
   },
   "source": [
    "# Implementing the Continuous Bag of Words (CBOW) Model"
   ]
  },
  {
   "cell_type": "markdown",
   "metadata": {
    "id": "lqxQtxIwPeLp"
   },
   "source": [
    "## installing libraries"
   ]
  },
  {
   "cell_type": "code",
   "execution_count": null,
   "metadata": {
    "id": "8FBYU3q1HjcS"
   },
   "outputs": [],
   "source": [
    "# !pip install numpy\n",
    "# !pip install pandas\n",
    "# !pip install keras"
   ]
  },
  {
   "cell_type": "markdown",
   "metadata": {
    "id": "iNELy04aPSu0"
   },
   "source": [
    "## import the necessary packages"
   ]
  },
  {
   "cell_type": "code",
   "execution_count": null,
   "metadata": {
    "id": "3bN0uk6kINIP"
   },
   "outputs": [],
   "source": [
    "import numpy as np\n",
    "import pandas as pd\n",
    "from keras.backend import mean\n",
    "from keras.layers import Dense, Embedding, Lambda\n",
    "from keras.models import Sequential\n",
    "from keras.preprocessing.sequence import pad_sequences\n",
    "from keras.preprocessing.text import Tokenizer, text_to_word_sequence\n",
    "from keras.utils import to_categorical"
   ]
  },
  {
   "cell_type": "markdown",
   "metadata": {
    "id": "lQiYct9aQneI"
   },
   "source": [
    "## import the text data from input file"
   ]
  },
  {
   "cell_type": "code",
   "execution_count": null,
   "metadata": {
    "colab": {
     "base_uri": "https://localhost:8080/"
    },
    "id": "n3gqlnifNpDu",
    "outputId": "56aa123b-521f-4982-8391-4d56969b7de6"
   },
   "outputs": [
    {
     "name": "stdout",
     "output_type": "stream",
     "text": [
      "['The speed of transmission is an important point of difference between the two viruses. Influenza has a shorter median incubation period (the time from infection to appearance of symptoms) and a shorter serial interval (the time between successive cases) than COVID-19 virus. The serial interval for COVID-19 virus is estimated to be 5-6 days, while for influenza virus, the serial interval is 3 days. This means that influenza can spread faster than COVID-19.\\n', 'Further, transmission in the first 3-5 days of illness, or potentially pre-symptomatic transmission –transmission of the virus before the appearance of symptoms – is a major driver of transmission for influenza. In contrast, while we are learning that there are people who can shed COVID-19 virus 24-48 hours prior to symptom onset, at present, this does not appear to be a major driver of transmission.\\n', 'The reproductive number – the number of secondary infections generated from one infected individual – is understood to be between 2 and 2.5 for COVID-19 virus, higher than for influenza. However, estimates for both COVID-19 and influenza viruses are very context and time-specific, making direct comparisons more difficult.']\n"
     ]
    }
   ],
   "source": [
    "# input_file content\n",
    "\"\"\"\n",
    "The speed of transmission is an important point of difference between the two viruses. Influenza has a shorter median incubation period (the time from infection to appearance of symptoms) and a shorter serial interval (the time between successive cases) than COVID-19 virus. The serial interval for COVID-19 virus is estimated to be 5-6 days, while for influenza virus, the serial interval is 3 days. This means that influenza can spread faster than COVID-19.\n",
    "\n",
    "Further, transmission in the first 3-5 days of illness, or potentially pre-symptomatic transmission –transmission of the virus before the appearance of symptoms – is a major driver of transmission for influenza. In contrast, while we are learning that there are people who can shed COVID-19 virus 24-48 hours prior to symptom onset, at present, this does not appear to be a major driver of transmission.\n",
    "\n",
    "The reproductive number – the number of secondary infections generated from one infected individual – is understood to be between 2 and 2.5 for COVID-19 virus, higher than for influenza. However, estimates for both COVID-19 and influenza viruses are very context and time-specific, making direct comparisons more difficult.\n",
    "\"\"\"\n",
    "\n",
    "input_file = open(\"./input_file.txt\", \"r\")\n",
    "text_data = [text for text in input_file if text.count(\" \") >= 2]\n",
    "print(text_data)"
   ]
  },
  {
   "cell_type": "markdown",
   "metadata": {
    "id": "shFqBhqleeWG"
   },
   "source": [
    "## tokenize every word in the dataset and fit data to the tokenizer"
   ]
  },
  {
   "cell_type": "code",
   "execution_count": null,
   "metadata": {
    "colab": {
     "base_uri": "https://localhost:8080/"
    },
    "id": "GaAkbNPTeeDw",
    "outputId": "8d911c91-4fe9-431d-d88a-6710fbc50540"
   },
   "outputs": [
    {
     "name": "stdout",
     "output_type": "stream",
     "text": [
      "[[1, 38, 2, 8, 9, 39, 40, 41, 2, 42, 13, 1, 43, 23, 3, 44, 11, 24, 45, 46, 47, 1, 14, 25, 48, 10, 26, 2, 27, 12, 11, 24, 15, 16, 1, 14, 13, 49, 50, 17, 4, 5, 6, 1, 15, 16, 7, 4, 5, 6, 9, 51, 10, 18, 19, 52, 20, 28, 7, 3, 6, 1, 15, 16, 9, 29, 20, 30, 53, 31, 3, 32, 54, 55, 17, 4, 5], [56, 8, 33, 1, 57, 29, 19, 20, 2, 58, 59, 60, 61, 62, 8, 63, 2, 1, 6, 64, 1, 26, 2, 27, 21, 9, 11, 34, 35, 2, 8, 7, 3, 33, 65, 28, 66, 22, 67, 31, 68, 22, 69, 70, 32, 71, 4, 5, 6, 72, 73, 74, 75, 10, 76, 77, 78, 79, 30, 80, 81, 82, 10, 18, 11, 34, 35, 2, 8], [1, 83, 36, 21, 1, 36, 2, 84, 85, 86, 25, 87, 88, 89, 21, 9, 90, 10, 18, 13, 37, 12, 37, 19, 7, 4, 5, 6, 91, 17, 7, 3, 92, 93, 7, 94, 4, 5, 12, 3, 23, 22, 95, 96, 12, 14, 97, 98, 99, 100, 101, 102]]\n",
      "{'the': 1, 'of': 2, 'influenza': 3, 'covid': 4, '19': 5, 'virus': 6, 'for': 7, 'transmission': 8, 'is': 9, 'to': 10, 'a': 11, 'and': 12, 'between': 13, 'time': 14, 'serial': 15, 'interval': 16, 'than': 17, 'be': 18, '5': 19, 'days': 20, '–': 21, 'are': 22, 'viruses': 23, 'shorter': 24, 'from': 25, 'appearance': 26, 'symptoms': 27, 'while': 28, '3': 29, 'this': 30, 'that': 31, 'can': 32, 'in': 33, 'major': 34, 'driver': 35, 'number': 36, '2': 37, 'speed': 38, 'an': 39, 'important': 40, 'point': 41, 'difference': 42, 'two': 43, 'has': 44, 'median': 45, 'incubation': 46, 'period': 47, 'infection': 48, 'successive': 49, 'cases': 50, 'estimated': 51, '6': 52, 'means': 53, 'spread': 54, 'faster': 55, 'further': 56, 'first': 57, 'illness': 58, 'or': 59, 'potentially': 60, 'pre': 61, 'symptomatic': 62, '–transmission': 63, 'before': 64, 'contrast': 65, 'we': 66, 'learning': 67, 'there': 68, 'people': 69, 'who': 70, 'shed': 71, '24': 72, '48': 73, 'hours': 74, 'prior': 75, 'symptom': 76, 'onset': 77, 'at': 78, 'present': 79, 'does': 80, 'not': 81, 'appear': 82, 'reproductive': 83, 'secondary': 84, 'infections': 85, 'generated': 86, 'one': 87, 'infected': 88, 'individual': 89, 'understood': 90, 'higher': 91, 'however': 92, 'estimates': 93, 'both': 94, 'very': 95, 'context': 96, 'specific': 97, 'making': 98, 'direct': 99, 'comparisons': 100, 'more': 101, 'difficult': 102}\n",
      "{1: 'the', 2: 'of', 3: 'influenza', 4: 'covid', 5: '19', 6: 'virus', 7: 'for', 8: 'transmission', 9: 'is', 10: 'to', 11: 'a', 12: 'and', 13: 'between', 14: 'time', 15: 'serial', 16: 'interval', 17: 'than', 18: 'be', 19: '5', 20: 'days', 21: '–', 22: 'are', 23: 'viruses', 24: 'shorter', 25: 'from', 26: 'appearance', 27: 'symptoms', 28: 'while', 29: '3', 30: 'this', 31: 'that', 32: 'can', 33: 'in', 34: 'major', 35: 'driver', 36: 'number', 37: '2', 38: 'speed', 39: 'an', 40: 'important', 41: 'point', 42: 'difference', 43: 'two', 44: 'has', 45: 'median', 46: 'incubation', 47: 'period', 48: 'infection', 49: 'successive', 50: 'cases', 51: 'estimated', 52: '6', 53: 'means', 54: 'spread', 55: 'faster', 56: 'further', 57: 'first', 58: 'illness', 59: 'or', 60: 'potentially', 61: 'pre', 62: 'symptomatic', 63: '–transmission', 64: 'before', 65: 'contrast', 66: 'we', 67: 'learning', 68: 'there', 69: 'people', 70: 'who', 71: 'shed', 72: '24', 73: '48', 74: 'hours', 75: 'prior', 76: 'symptom', 77: 'onset', 78: 'at', 79: 'present', 80: 'does', 81: 'not', 82: 'appear', 83: 'reproductive', 84: 'secondary', 85: 'infections', 86: 'generated', 87: 'one', 88: 'infected', 89: 'individual', 90: 'understood', 91: 'higher', 92: 'however', 93: 'estimates', 94: 'both', 95: 'very', 96: 'context', 97: 'specific', 98: 'making', 99: 'direct', 100: 'comparisons', 101: 'more', 102: 'difficult'}\n",
      "Word Count: 198\n",
      "Vocabulary Size: 103\n",
      "Vocabulary Sample: [('the', 1), ('of', 2), ('influenza', 3), ('covid', 4), ('19', 5), ('virus', 6), ('for', 7), ('transmission', 8), ('is', 9), ('to', 10)]\n"
     ]
    }
   ],
   "source": [
    "tokenizer = Tokenizer()\n",
    "tokenizer.fit_on_texts(text_data)\n",
    "\n",
    "word_ids = tokenizer.texts_to_sequences(text_data)\n",
    "print(word_ids)\n",
    "\n",
    "word_to_id_map = tokenizer.word_index\n",
    "print(word_to_id_map)\n",
    "\n",
    "id_to_word_map = {v: k for k, v in word_to_id_map.items()}\n",
    "print(id_to_word_map)\n",
    "\n",
    "word_count = sum(len(s) for s in word_ids)\n",
    "vocab_size = len(word_to_id_map) + 1\n",
    "embed_size = 100\n",
    "window_size = 2\n",
    "\n",
    "print(\"Word Count:\", word_count)\n",
    "print(\"Vocabulary Size:\", vocab_size)\n",
    "print(\"Vocabulary Sample:\", list(word_to_id_map.items())[:10])"
   ]
  },
  {
   "cell_type": "markdown",
   "metadata": {
    "id": "-agcStgIR2F4"
   },
   "source": [
    "## function to generate (context word, label word) pairs"
   ]
  },
  {
   "cell_type": "code",
   "execution_count": null,
   "metadata": {
    "id": "OaP5mTb8Q94d"
   },
   "outputs": [],
   "source": [
    "def cbow_model(data, window_size, vocab_size):\n",
    "    context_length = window_size * 2\n",
    "    for text in data:\n",
    "        text_length = len(text)\n",
    "        for idx, word in enumerate(text):\n",
    "            context_text = []\n",
    "            label_word = []\n",
    "\n",
    "            start = idx - window_size\n",
    "            end = idx + window_size + 1\n",
    "\n",
    "            context_text.append(\n",
    "                [\n",
    "                    text[i]\n",
    "                    for i in range(start, end)\n",
    "                    if 0 <= i < text_length and i != idx\n",
    "                ]\n",
    "            )\n",
    "            label_word.append(word)\n",
    "\n",
    "            x = pad_sequences(context_text, maxlen=context_length)\n",
    "            y = to_categorical(label_word, vocab_size)\n",
    "            yield (x, y)"
   ]
  },
  {
   "cell_type": "code",
   "execution_count": null,
   "metadata": {
    "colab": {
     "base_uri": "https://localhost:8080/"
    },
    "id": "-jo2g6y7XQhB",
    "outputId": "8aab89c1-4d62-4e8e-f290-38d3e826e139"
   },
   "outputs": [
    {
     "name": "stdout",
     "output_type": "stream",
     "text": [
      "Context (X): ['the', 'speed', 'transmission', 'is'] -> Target (Y): of\n",
      "Context (X): ['speed', 'of', 'is', 'an'] -> Target (Y): transmission\n",
      "Context (X): ['of', 'transmission', 'an', 'important'] -> Target (Y): is\n",
      "Context (X): ['transmission', 'is', 'important', 'point'] -> Target (Y): an\n",
      "Context (X): ['is', 'an', 'point', 'of'] -> Target (Y): important\n",
      "Context (X): ['an', 'important', 'of', 'difference'] -> Target (Y): point\n",
      "Context (X): ['important', 'point', 'difference', 'between'] -> Target (Y): of\n",
      "Context (X): ['point', 'of', 'between', 'the'] -> Target (Y): difference\n",
      "Context (X): ['of', 'difference', 'the', 'two'] -> Target (Y): between\n",
      "Context (X): ['difference', 'between', 'two', 'viruses'] -> Target (Y): the\n",
      "Context (X): ['between', 'the', 'viruses', 'influenza'] -> Target (Y): two\n"
     ]
    }
   ],
   "source": [
    "i = 0\n",
    "for x, y in cbow_model(data=word_ids, window_size=window_size, vocab_size=vocab_size):\n",
    "    if 0 not in x[0]:\n",
    "        print(\n",
    "            \"Context (X):\",\n",
    "            [id_to_word_map[w] for w in x[0]],\n",
    "            \"-> Target (Y):\",\n",
    "            id_to_word_map[np.argwhere(y[0])[0][0]],\n",
    "        )\n",
    "\n",
    "        if i == 10:\n",
    "            break\n",
    "        i += 1"
   ]
  },
  {
   "cell_type": "markdown",
   "metadata": {
    "id": "vYgnw5Elh4jh"
   },
   "source": [
    "## build the CBOW model"
   ]
  },
  {
   "cell_type": "code",
   "execution_count": null,
   "metadata": {
    "colab": {
     "base_uri": "https://localhost:8080/"
    },
    "id": "2e11lX-7h4bl",
    "outputId": "7f03b6e2-a71d-4b66-b1b9-8c8f537b8355"
   },
   "outputs": [
    {
     "name": "stdout",
     "output_type": "stream",
     "text": [
      "Model: \"sequential\"\n",
      "_________________________________________________________________\n",
      " Layer (type)                Output Shape              Param #   \n",
      "=================================================================\n",
      " embedding (Embedding)       (None, 4, 100)            10300     \n",
      "                                                                 \n",
      " lambda (Lambda)             (None, 100)               0         \n",
      "                                                                 \n",
      " dense (Dense)               (None, 103)               10403     \n",
      "                                                                 \n",
      "=================================================================\n",
      "Total params: 20703 (80.87 KB)\n",
      "Trainable params: 20703 (80.87 KB)\n",
      "Non-trainable params: 0 (0.00 Byte)\n",
      "_________________________________________________________________\n",
      "None\n"
     ]
    },
    {
     "data": {
      "image/svg+xml": [
       "<svg xmlns=\"http://www.w3.org/2000/svg\" xmlns:xlink=\"http://www.w3.org/1999/xlink\" width=\"337pt\" height=\"405pt\" viewBox=\"0.00 0.00 253.00 304.00\">\n",
       "<g id=\"graph0\" class=\"graph\" transform=\"scale(0.75 0.75) rotate(0) translate(4 300)\">\n",
       "<title>G</title>\n",
       "<polygon fill=\"white\" stroke=\"transparent\" points=\"-4,4 -4,-300 249,-300 249,4 -4,4\"/>\n",
       "<!-- 135843610017264 -->\n",
       "<g id=\"node1\" class=\"node\">\n",
       "<title>135843610017264</title>\n",
       "<polygon fill=\"none\" stroke=\"black\" points=\"0,-249.5 0,-295.5 245,-295.5 245,-249.5 0,-249.5\"/>\n",
       "<text text-anchor=\"middle\" x=\"56\" y=\"-280.3\" font-family=\"Times,serif\" font-size=\"14.00\">embedding_input</text>\n",
       "<polyline fill=\"none\" stroke=\"black\" points=\"0,-272.5 112,-272.5 \"/>\n",
       "<text text-anchor=\"middle\" x=\"56\" y=\"-257.3\" font-family=\"Times,serif\" font-size=\"14.00\">InputLayer</text>\n",
       "<polyline fill=\"none\" stroke=\"black\" points=\"112,-249.5 112,-295.5 \"/>\n",
       "<text text-anchor=\"middle\" x=\"139.5\" y=\"-280.3\" font-family=\"Times,serif\" font-size=\"14.00\">input:</text>\n",
       "<polyline fill=\"none\" stroke=\"black\" points=\"112,-272.5 167,-272.5 \"/>\n",
       "<text text-anchor=\"middle\" x=\"139.5\" y=\"-257.3\" font-family=\"Times,serif\" font-size=\"14.00\">output:</text>\n",
       "<polyline fill=\"none\" stroke=\"black\" points=\"167,-249.5 167,-295.5 \"/>\n",
       "<text text-anchor=\"middle\" x=\"206\" y=\"-280.3\" font-family=\"Times,serif\" font-size=\"14.00\">[(None, 4)]</text>\n",
       "<polyline fill=\"none\" stroke=\"black\" points=\"167,-272.5 245,-272.5 \"/>\n",
       "<text text-anchor=\"middle\" x=\"206\" y=\"-257.3\" font-family=\"Times,serif\" font-size=\"14.00\">[(None, 4)]</text>\n",
       "</g>\n",
       "<!-- 135843610010592 -->\n",
       "<g id=\"node2\" class=\"node\">\n",
       "<title>135843610010592</title>\n",
       "<polygon fill=\"none\" stroke=\"black\" points=\"6.5,-166.5 6.5,-212.5 238.5,-212.5 238.5,-166.5 6.5,-166.5\"/>\n",
       "<text text-anchor=\"middle\" x=\"46.5\" y=\"-197.3\" font-family=\"Times,serif\" font-size=\"14.00\">embedding</text>\n",
       "<polyline fill=\"none\" stroke=\"black\" points=\"6.5,-189.5 86.5,-189.5 \"/>\n",
       "<text text-anchor=\"middle\" x=\"46.5\" y=\"-174.3\" font-family=\"Times,serif\" font-size=\"14.00\">Embedding</text>\n",
       "<polyline fill=\"none\" stroke=\"black\" points=\"86.5,-166.5 86.5,-212.5 \"/>\n",
       "<text text-anchor=\"middle\" x=\"114\" y=\"-197.3\" font-family=\"Times,serif\" font-size=\"14.00\">input:</text>\n",
       "<polyline fill=\"none\" stroke=\"black\" points=\"86.5,-189.5 141.5,-189.5 \"/>\n",
       "<text text-anchor=\"middle\" x=\"114\" y=\"-174.3\" font-family=\"Times,serif\" font-size=\"14.00\">output:</text>\n",
       "<polyline fill=\"none\" stroke=\"black\" points=\"141.5,-166.5 141.5,-212.5 \"/>\n",
       "<text text-anchor=\"middle\" x=\"190\" y=\"-197.3\" font-family=\"Times,serif\" font-size=\"14.00\">(None, 4)</text>\n",
       "<polyline fill=\"none\" stroke=\"black\" points=\"141.5,-189.5 238.5,-189.5 \"/>\n",
       "<text text-anchor=\"middle\" x=\"190\" y=\"-174.3\" font-family=\"Times,serif\" font-size=\"14.00\">(None, 4, 100)</text>\n",
       "</g>\n",
       "<!-- 135843610017264&#45;&gt;135843610010592 -->\n",
       "<g id=\"edge1\" class=\"edge\">\n",
       "<title>135843610017264-&gt;135843610010592</title>\n",
       "<path fill=\"none\" stroke=\"black\" d=\"M122.5,-249.37C122.5,-241.15 122.5,-231.66 122.5,-222.73\"/>\n",
       "<polygon fill=\"black\" stroke=\"black\" points=\"126,-222.61 122.5,-212.61 119,-222.61 126,-222.61\"/>\n",
       "</g>\n",
       "<!-- 135843610174528 -->\n",
       "<g id=\"node3\" class=\"node\">\n",
       "<title>135843610174528</title>\n",
       "<polygon fill=\"none\" stroke=\"black\" points=\"15.5,-83.5 15.5,-129.5 229.5,-129.5 229.5,-83.5 15.5,-83.5\"/>\n",
       "<text text-anchor=\"middle\" x=\"46.5\" y=\"-114.3\" font-family=\"Times,serif\" font-size=\"14.00\">lambda</text>\n",
       "<polyline fill=\"none\" stroke=\"black\" points=\"15.5,-106.5 77.5,-106.5 \"/>\n",
       "<text text-anchor=\"middle\" x=\"46.5\" y=\"-91.3\" font-family=\"Times,serif\" font-size=\"14.00\">Lambda</text>\n",
       "<polyline fill=\"none\" stroke=\"black\" points=\"77.5,-83.5 77.5,-129.5 \"/>\n",
       "<text text-anchor=\"middle\" x=\"105\" y=\"-114.3\" font-family=\"Times,serif\" font-size=\"14.00\">input:</text>\n",
       "<polyline fill=\"none\" stroke=\"black\" points=\"77.5,-106.5 132.5,-106.5 \"/>\n",
       "<text text-anchor=\"middle\" x=\"105\" y=\"-91.3\" font-family=\"Times,serif\" font-size=\"14.00\">output:</text>\n",
       "<polyline fill=\"none\" stroke=\"black\" points=\"132.5,-83.5 132.5,-129.5 \"/>\n",
       "<text text-anchor=\"middle\" x=\"181\" y=\"-114.3\" font-family=\"Times,serif\" font-size=\"14.00\">(None, 4, 100)</text>\n",
       "<polyline fill=\"none\" stroke=\"black\" points=\"132.5,-106.5 229.5,-106.5 \"/>\n",
       "<text text-anchor=\"middle\" x=\"181\" y=\"-91.3\" font-family=\"Times,serif\" font-size=\"14.00\">(None, 100)</text>\n",
       "</g>\n",
       "<!-- 135843610010592&#45;&gt;135843610174528 -->\n",
       "<g id=\"edge2\" class=\"edge\">\n",
       "<title>135843610010592-&gt;135843610174528</title>\n",
       "<path fill=\"none\" stroke=\"black\" d=\"M122.5,-166.37C122.5,-158.15 122.5,-148.66 122.5,-139.73\"/>\n",
       "<polygon fill=\"black\" stroke=\"black\" points=\"126,-139.61 122.5,-129.61 119,-139.61 126,-139.61\"/>\n",
       "</g>\n",
       "<!-- 135843610176160 -->\n",
       "<g id=\"node4\" class=\"node\">\n",
       "<title>135843610176160</title>\n",
       "<polygon fill=\"none\" stroke=\"black\" points=\"28.5,-0.5 28.5,-46.5 216.5,-46.5 216.5,-0.5 28.5,-0.5\"/>\n",
       "<text text-anchor=\"middle\" x=\"53.5\" y=\"-31.3\" font-family=\"Times,serif\" font-size=\"14.00\">dense</text>\n",
       "<polyline fill=\"none\" stroke=\"black\" points=\"28.5,-23.5 78.5,-23.5 \"/>\n",
       "<text text-anchor=\"middle\" x=\"53.5\" y=\"-8.3\" font-family=\"Times,serif\" font-size=\"14.00\">Dense</text>\n",
       "<polyline fill=\"none\" stroke=\"black\" points=\"78.5,-0.5 78.5,-46.5 \"/>\n",
       "<text text-anchor=\"middle\" x=\"106\" y=\"-31.3\" font-family=\"Times,serif\" font-size=\"14.00\">input:</text>\n",
       "<polyline fill=\"none\" stroke=\"black\" points=\"78.5,-23.5 133.5,-23.5 \"/>\n",
       "<text text-anchor=\"middle\" x=\"106\" y=\"-8.3\" font-family=\"Times,serif\" font-size=\"14.00\">output:</text>\n",
       "<polyline fill=\"none\" stroke=\"black\" points=\"133.5,-0.5 133.5,-46.5 \"/>\n",
       "<text text-anchor=\"middle\" x=\"175\" y=\"-31.3\" font-family=\"Times,serif\" font-size=\"14.00\">(None, 100)</text>\n",
       "<polyline fill=\"none\" stroke=\"black\" points=\"133.5,-23.5 216.5,-23.5 \"/>\n",
       "<text text-anchor=\"middle\" x=\"175\" y=\"-8.3\" font-family=\"Times,serif\" font-size=\"14.00\">(None, 103)</text>\n",
       "</g>\n",
       "<!-- 135843610174528&#45;&gt;135843610176160 -->\n",
       "<g id=\"edge3\" class=\"edge\">\n",
       "<title>135843610174528-&gt;135843610176160</title>\n",
       "<path fill=\"none\" stroke=\"black\" d=\"M122.5,-83.37C122.5,-75.15 122.5,-65.66 122.5,-56.73\"/>\n",
       "<polygon fill=\"black\" stroke=\"black\" points=\"126,-56.61 122.5,-46.61 119,-56.61 126,-56.61\"/>\n",
       "</g>\n",
       "</g>\n",
       "</svg>"
      ],
      "text/plain": [
       "<IPython.core.display.SVG object>"
      ]
     },
     "execution_count": 7,
     "metadata": {},
     "output_type": "execute_result"
    }
   ],
   "source": [
    "cbow = Sequential()\n",
    "cbow.add(\n",
    "    Embedding(input_dim=vocab_size, output_dim=embed_size, input_length=window_size * 2)\n",
    ")\n",
    "cbow.add(Lambda(lambda x: mean(x, axis=1), output_shape=(embed_size)))\n",
    "cbow.add(Dense(vocab_size, activation=\"softmax\"))\n",
    "cbow.compile(loss=\"categorical_crossentropy\", optimizer=\"rmsprop\")\n",
    "\n",
    "print(cbow.summary())\n",
    "\n",
    "from IPython.display import SVG\n",
    "from keras.utils import model_to_dot\n",
    "\n",
    "SVG(model_to_dot(cbow, show_shapes=True, show_layer_names=True, rankdir=\"TB\").create(\n",
    "    prog=\"dot\", format=\"svg\"))"
   ]
  },
  {
   "cell_type": "code",
   "execution_count": null,
   "metadata": {
    "colab": {
     "base_uri": "https://localhost:8080/"
    },
    "id": "aZNjRPBAXxqW",
    "outputId": "01f9d175-ee14-4e8a-fdf0-519f4b6e3417"
   },
   "outputs": [
    {
     "name": "stdout",
     "output_type": "stream",
     "text": [
      "Epoch: 1 \tLoss: 916.6858558654785\n",
      "Epoch: 2 \tLoss: 902.4476752281189\n",
      "Epoch: 3 \tLoss: 887.0675990581512\n",
      "Epoch: 4 \tLoss: 869.3559384346008\n",
      "Epoch: 5 \tLoss: 849.5490753650665\n",
      "Epoch: 6 \tLoss: 828.9646286964417\n",
      "Epoch: 7 \tLoss: 809.2348103523254\n",
      "Epoch: 8 \tLoss: 791.2246149778366\n",
      "Epoch: 9 \tLoss: 774.8088864088058\n",
      "Epoch: 10 \tLoss: 759.4513930082321\n"
     ]
    }
   ],
   "source": [
    "for epoch in range(1, 11):\n",
    "    loss = 0.0\n",
    "    for x, y in cbow_model(data=word_ids, window_size=window_size, vocab_size=vocab_size):\n",
    "        loss += cbow.train_on_batch(x, y)\n",
    "\n",
    "    print(\"Epoch:\", epoch, \"\\tLoss:\", loss)"
   ]
  },
  {
   "cell_type": "markdown",
   "metadata": {
    "id": "Vw16Af2Ih5-I"
   },
   "source": [
    "## display the weights"
   ]
  },
  {
   "cell_type": "code",
   "execution_count": null,
   "metadata": {
    "colab": {
     "base_uri": "https://localhost:8080/"
    },
    "id": "WSvQDXosYei9",
    "outputId": "1a8186d0-1091-4b20-a85b-b117dccd9d62"
   },
   "outputs": [
    {
     "name": "stdout",
     "output_type": "stream",
     "text": [
      "(102, 100)\n"
     ]
    },
    {
     "data": {
      "text/html": [
       "\n",
       "  <div id=\"df-6597e99e-e21a-416c-a4e2-267c26c041e0\" class=\"colab-df-container\">\n",
       "    <div>\n",
       "<style scoped>\n",
       "    .dataframe tbody tr th:only-of-type {\n",
       "        vertical-align: middle;\n",
       "    }\n",
       "\n",
       "    .dataframe tbody tr th {\n",
       "        vertical-align: top;\n",
       "    }\n",
       "\n",
       "    .dataframe thead th {\n",
       "        text-align: right;\n",
       "    }\n",
       "</style>\n",
       "<table border=\"1\" class=\"dataframe\">\n",
       "  <thead>\n",
       "    <tr style=\"text-align: right;\">\n",
       "      <th></th>\n",
       "      <th>0</th>\n",
       "      <th>1</th>\n",
       "      <th>2</th>\n",
       "      <th>3</th>\n",
       "      <th>4</th>\n",
       "      <th>5</th>\n",
       "      <th>6</th>\n",
       "      <th>7</th>\n",
       "      <th>8</th>\n",
       "      <th>9</th>\n",
       "      <th>...</th>\n",
       "      <th>90</th>\n",
       "      <th>91</th>\n",
       "      <th>92</th>\n",
       "      <th>93</th>\n",
       "      <th>94</th>\n",
       "      <th>95</th>\n",
       "      <th>96</th>\n",
       "      <th>97</th>\n",
       "      <th>98</th>\n",
       "      <th>99</th>\n",
       "    </tr>\n",
       "  </thead>\n",
       "  <tbody>\n",
       "    <tr>\n",
       "      <th>the</th>\n",
       "      <td>-0.001457</td>\n",
       "      <td>0.236298</td>\n",
       "      <td>0.205402</td>\n",
       "      <td>0.219881</td>\n",
       "      <td>0.046929</td>\n",
       "      <td>0.288547</td>\n",
       "      <td>-0.017311</td>\n",
       "      <td>0.147649</td>\n",
       "      <td>-0.082211</td>\n",
       "      <td>0.005393</td>\n",
       "      <td>...</td>\n",
       "      <td>-0.043984</td>\n",
       "      <td>0.063020</td>\n",
       "      <td>-0.081324</td>\n",
       "      <td>0.085275</td>\n",
       "      <td>0.237359</td>\n",
       "      <td>0.128193</td>\n",
       "      <td>0.179920</td>\n",
       "      <td>0.041045</td>\n",
       "      <td>-0.119892</td>\n",
       "      <td>0.195552</td>\n",
       "    </tr>\n",
       "    <tr>\n",
       "      <th>of</th>\n",
       "      <td>0.016980</td>\n",
       "      <td>-0.038952</td>\n",
       "      <td>-0.226338</td>\n",
       "      <td>-0.041206</td>\n",
       "      <td>-0.116411</td>\n",
       "      <td>-0.250330</td>\n",
       "      <td>-0.174436</td>\n",
       "      <td>0.224783</td>\n",
       "      <td>0.183893</td>\n",
       "      <td>0.233269</td>\n",
       "      <td>...</td>\n",
       "      <td>0.028699</td>\n",
       "      <td>0.189883</td>\n",
       "      <td>-0.069957</td>\n",
       "      <td>-0.040820</td>\n",
       "      <td>-0.192335</td>\n",
       "      <td>0.006705</td>\n",
       "      <td>-0.111266</td>\n",
       "      <td>0.009602</td>\n",
       "      <td>-0.084105</td>\n",
       "      <td>0.050775</td>\n",
       "    </tr>\n",
       "    <tr>\n",
       "      <th>influenza</th>\n",
       "      <td>-0.003724</td>\n",
       "      <td>-0.034987</td>\n",
       "      <td>0.030597</td>\n",
       "      <td>0.032019</td>\n",
       "      <td>0.214578</td>\n",
       "      <td>-0.016256</td>\n",
       "      <td>0.046333</td>\n",
       "      <td>-0.015724</td>\n",
       "      <td>0.137796</td>\n",
       "      <td>-0.051429</td>\n",
       "      <td>...</td>\n",
       "      <td>-0.104771</td>\n",
       "      <td>-0.042387</td>\n",
       "      <td>0.024490</td>\n",
       "      <td>-0.055454</td>\n",
       "      <td>0.276698</td>\n",
       "      <td>0.200030</td>\n",
       "      <td>0.085447</td>\n",
       "      <td>0.058504</td>\n",
       "      <td>0.175367</td>\n",
       "      <td>0.233977</td>\n",
       "    </tr>\n",
       "    <tr>\n",
       "      <th>covid</th>\n",
       "      <td>0.114678</td>\n",
       "      <td>-0.014623</td>\n",
       "      <td>0.168101</td>\n",
       "      <td>0.050307</td>\n",
       "      <td>0.050896</td>\n",
       "      <td>-0.158859</td>\n",
       "      <td>0.091308</td>\n",
       "      <td>0.228199</td>\n",
       "      <td>-0.242142</td>\n",
       "      <td>0.081604</td>\n",
       "      <td>...</td>\n",
       "      <td>-0.181154</td>\n",
       "      <td>0.182159</td>\n",
       "      <td>0.110216</td>\n",
       "      <td>0.136334</td>\n",
       "      <td>0.245548</td>\n",
       "      <td>0.177022</td>\n",
       "      <td>0.162210</td>\n",
       "      <td>0.231421</td>\n",
       "      <td>0.273702</td>\n",
       "      <td>0.036443</td>\n",
       "    </tr>\n",
       "    <tr>\n",
       "      <th>19</th>\n",
       "      <td>-0.193951</td>\n",
       "      <td>-0.276936</td>\n",
       "      <td>0.196174</td>\n",
       "      <td>0.184128</td>\n",
       "      <td>0.057023</td>\n",
       "      <td>-0.148413</td>\n",
       "      <td>-0.108301</td>\n",
       "      <td>0.279852</td>\n",
       "      <td>-0.010022</td>\n",
       "      <td>0.215006</td>\n",
       "      <td>...</td>\n",
       "      <td>-0.366902</td>\n",
       "      <td>-0.106013</td>\n",
       "      <td>0.035998</td>\n",
       "      <td>0.148787</td>\n",
       "      <td>-0.062351</td>\n",
       "      <td>0.169874</td>\n",
       "      <td>0.186860</td>\n",
       "      <td>0.319591</td>\n",
       "      <td>0.142311</td>\n",
       "      <td>-0.047788</td>\n",
       "    </tr>\n",
       "  </tbody>\n",
       "</table>\n",
       "<p>5 rows × 100 columns</p>\n",
       "</div>\n",
       "    <div class=\"colab-df-buttons\">\n",
       "\n",
       "  <div class=\"colab-df-container\">\n",
       "    <button class=\"colab-df-convert\" onclick=\"convertToInteractive('df-6597e99e-e21a-416c-a4e2-267c26c041e0')\"\n",
       "            title=\"Convert this dataframe to an interactive table.\"\n",
       "            style=\"display:none;\">\n",
       "\n",
       "  <svg xmlns=\"http://www.w3.org/2000/svg\" height=\"24px\" viewBox=\"0 -960 960 960\">\n",
       "    <path d=\"M120-120v-720h720v720H120Zm60-500h600v-160H180v160Zm220 220h160v-160H400v160Zm0 220h160v-160H400v160ZM180-400h160v-160H180v160Zm440 0h160v-160H620v160ZM180-180h160v-160H180v160Zm440 0h160v-160H620v160Z\"/>\n",
       "  </svg>\n",
       "    </button>\n",
       "\n",
       "  <style>\n",
       "    .colab-df-container {\n",
       "      display:flex;\n",
       "      gap: 12px;\n",
       "    }\n",
       "\n",
       "    .colab-df-convert {\n",
       "      background-color: #E8F0FE;\n",
       "      border: none;\n",
       "      border-radius: 50%;\n",
       "      cursor: pointer;\n",
       "      display: none;\n",
       "      fill: #1967D2;\n",
       "      height: 32px;\n",
       "      padding: 0 0 0 0;\n",
       "      width: 32px;\n",
       "    }\n",
       "\n",
       "    .colab-df-convert:hover {\n",
       "      background-color: #E2EBFA;\n",
       "      box-shadow: 0px 1px 2px rgba(60, 64, 67, 0.3), 0px 1px 3px 1px rgba(60, 64, 67, 0.15);\n",
       "      fill: #174EA6;\n",
       "    }\n",
       "\n",
       "    .colab-df-buttons div {\n",
       "      margin-bottom: 4px;\n",
       "    }\n",
       "\n",
       "    [theme=dark] .colab-df-convert {\n",
       "      background-color: #3B4455;\n",
       "      fill: #D2E3FC;\n",
       "    }\n",
       "\n",
       "    [theme=dark] .colab-df-convert:hover {\n",
       "      background-color: #434B5C;\n",
       "      box-shadow: 0px 1px 3px 1px rgba(0, 0, 0, 0.15);\n",
       "      filter: drop-shadow(0px 1px 2px rgba(0, 0, 0, 0.3));\n",
       "      fill: #FFFFFF;\n",
       "    }\n",
       "  </style>\n",
       "\n",
       "    <script>\n",
       "      const buttonEl =\n",
       "        document.querySelector('#df-6597e99e-e21a-416c-a4e2-267c26c041e0 button.colab-df-convert');\n",
       "      buttonEl.style.display =\n",
       "        google.colab.kernel.accessAllowed ? 'block' : 'none';\n",
       "\n",
       "      async function convertToInteractive(key) {\n",
       "        const element = document.querySelector('#df-6597e99e-e21a-416c-a4e2-267c26c041e0');\n",
       "        const dataTable =\n",
       "          await google.colab.kernel.invokeFunction('convertToInteractive',\n",
       "                                                    [key], {});\n",
       "        if (!dataTable) return;\n",
       "\n",
       "        const docLinkHtml = 'Like what you see? Visit the ' +\n",
       "          '<a target=\"_blank\" href=https://colab.research.google.com/notebooks/data_table.ipynb>data table notebook</a>'\n",
       "          + ' to learn more about interactive tables.';\n",
       "        element.innerHTML = '';\n",
       "        dataTable['output_type'] = 'display_data';\n",
       "        await google.colab.output.renderOutput(dataTable, element);\n",
       "        const docLink = document.createElement('div');\n",
       "        docLink.innerHTML = docLinkHtml;\n",
       "        element.appendChild(docLink);\n",
       "      }\n",
       "    </script>\n",
       "  </div>\n",
       "\n",
       "\n",
       "<div id=\"df-87a2ea1c-62fa-4e57-a4ac-95b0c67f3a2b\">\n",
       "  <button class=\"colab-df-quickchart\" onclick=\"quickchart('df-87a2ea1c-62fa-4e57-a4ac-95b0c67f3a2b')\"\n",
       "            title=\"Suggest charts\"\n",
       "            style=\"display:none;\">\n",
       "\n",
       "<svg xmlns=\"http://www.w3.org/2000/svg\" height=\"24px\"viewBox=\"0 0 24 24\"\n",
       "     width=\"24px\">\n",
       "    <g>\n",
       "        <path d=\"M19 3H5c-1.1 0-2 .9-2 2v14c0 1.1.9 2 2 2h14c1.1 0 2-.9 2-2V5c0-1.1-.9-2-2-2zM9 17H7v-7h2v7zm4 0h-2V7h2v10zm4 0h-2v-4h2v4z\"/>\n",
       "    </g>\n",
       "</svg>\n",
       "  </button>\n",
       "\n",
       "<style>\n",
       "  .colab-df-quickchart {\n",
       "      --bg-color: #E8F0FE;\n",
       "      --fill-color: #1967D2;\n",
       "      --hover-bg-color: #E2EBFA;\n",
       "      --hover-fill-color: #174EA6;\n",
       "      --disabled-fill-color: #AAA;\n",
       "      --disabled-bg-color: #DDD;\n",
       "  }\n",
       "\n",
       "  [theme=dark] .colab-df-quickchart {\n",
       "      --bg-color: #3B4455;\n",
       "      --fill-color: #D2E3FC;\n",
       "      --hover-bg-color: #434B5C;\n",
       "      --hover-fill-color: #FFFFFF;\n",
       "      --disabled-bg-color: #3B4455;\n",
       "      --disabled-fill-color: #666;\n",
       "  }\n",
       "\n",
       "  .colab-df-quickchart {\n",
       "    background-color: var(--bg-color);\n",
       "    border: none;\n",
       "    border-radius: 50%;\n",
       "    cursor: pointer;\n",
       "    display: none;\n",
       "    fill: var(--fill-color);\n",
       "    height: 32px;\n",
       "    padding: 0;\n",
       "    width: 32px;\n",
       "  }\n",
       "\n",
       "  .colab-df-quickchart:hover {\n",
       "    background-color: var(--hover-bg-color);\n",
       "    box-shadow: 0 1px 2px rgba(60, 64, 67, 0.3), 0 1px 3px 1px rgba(60, 64, 67, 0.15);\n",
       "    fill: var(--button-hover-fill-color);\n",
       "  }\n",
       "\n",
       "  .colab-df-quickchart-complete:disabled,\n",
       "  .colab-df-quickchart-complete:disabled:hover {\n",
       "    background-color: var(--disabled-bg-color);\n",
       "    fill: var(--disabled-fill-color);\n",
       "    box-shadow: none;\n",
       "  }\n",
       "\n",
       "  .colab-df-spinner {\n",
       "    border: 2px solid var(--fill-color);\n",
       "    border-color: transparent;\n",
       "    border-bottom-color: var(--fill-color);\n",
       "    animation:\n",
       "      spin 1s steps(1) infinite;\n",
       "  }\n",
       "\n",
       "  @keyframes spin {\n",
       "    0% {\n",
       "      border-color: transparent;\n",
       "      border-bottom-color: var(--fill-color);\n",
       "      border-left-color: var(--fill-color);\n",
       "    }\n",
       "    20% {\n",
       "      border-color: transparent;\n",
       "      border-left-color: var(--fill-color);\n",
       "      border-top-color: var(--fill-color);\n",
       "    }\n",
       "    30% {\n",
       "      border-color: transparent;\n",
       "      border-left-color: var(--fill-color);\n",
       "      border-top-color: var(--fill-color);\n",
       "      border-right-color: var(--fill-color);\n",
       "    }\n",
       "    40% {\n",
       "      border-color: transparent;\n",
       "      border-right-color: var(--fill-color);\n",
       "      border-top-color: var(--fill-color);\n",
       "    }\n",
       "    60% {\n",
       "      border-color: transparent;\n",
       "      border-right-color: var(--fill-color);\n",
       "    }\n",
       "    80% {\n",
       "      border-color: transparent;\n",
       "      border-right-color: var(--fill-color);\n",
       "      border-bottom-color: var(--fill-color);\n",
       "    }\n",
       "    90% {\n",
       "      border-color: transparent;\n",
       "      border-bottom-color: var(--fill-color);\n",
       "    }\n",
       "  }\n",
       "</style>\n",
       "\n",
       "  <script>\n",
       "    async function quickchart(key) {\n",
       "      const quickchartButtonEl =\n",
       "        document.querySelector('#' + key + ' button');\n",
       "      quickchartButtonEl.disabled = true;  // To prevent multiple clicks.\n",
       "      quickchartButtonEl.classList.add('colab-df-spinner');\n",
       "      try {\n",
       "        const charts = await google.colab.kernel.invokeFunction(\n",
       "            'suggestCharts', [key], {});\n",
       "      } catch (error) {\n",
       "        console.error('Error during call to suggestCharts:', error);\n",
       "      }\n",
       "      quickchartButtonEl.classList.remove('colab-df-spinner');\n",
       "      quickchartButtonEl.classList.add('colab-df-quickchart-complete');\n",
       "    }\n",
       "    (() => {\n",
       "      let quickchartButtonEl =\n",
       "        document.querySelector('#df-87a2ea1c-62fa-4e57-a4ac-95b0c67f3a2b button');\n",
       "      quickchartButtonEl.style.display =\n",
       "        google.colab.kernel.accessAllowed ? 'block' : 'none';\n",
       "    })();\n",
       "  </script>\n",
       "</div>\n",
       "    </div>\n",
       "  </div>\n"
      ],
      "text/plain": [
       "                 0         1         2         3         4         5   \\\n",
       "the       -0.001457  0.236298  0.205402  0.219881  0.046929  0.288547   \n",
       "of         0.016980 -0.038952 -0.226338 -0.041206 -0.116411 -0.250330   \n",
       "influenza -0.003724 -0.034987  0.030597  0.032019  0.214578 -0.016256   \n",
       "covid      0.114678 -0.014623  0.168101  0.050307  0.050896 -0.158859   \n",
       "19        -0.193951 -0.276936  0.196174  0.184128  0.057023 -0.148413   \n",
       "\n",
       "                 6         7         8         9   ...        90        91  \\\n",
       "the       -0.017311  0.147649 -0.082211  0.005393  ... -0.043984  0.063020   \n",
       "of        -0.174436  0.224783  0.183893  0.233269  ...  0.028699  0.189883   \n",
       "influenza  0.046333 -0.015724  0.137796 -0.051429  ... -0.104771 -0.042387   \n",
       "covid      0.091308  0.228199 -0.242142  0.081604  ... -0.181154  0.182159   \n",
       "19        -0.108301  0.279852 -0.010022  0.215006  ... -0.366902 -0.106013   \n",
       "\n",
       "                 92        93        94        95        96        97  \\\n",
       "the       -0.081324  0.085275  0.237359  0.128193  0.179920  0.041045   \n",
       "of        -0.069957 -0.040820 -0.192335  0.006705 -0.111266  0.009602   \n",
       "influenza  0.024490 -0.055454  0.276698  0.200030  0.085447  0.058504   \n",
       "covid      0.110216  0.136334  0.245548  0.177022  0.162210  0.231421   \n",
       "19         0.035998  0.148787 -0.062351  0.169874  0.186860  0.319591   \n",
       "\n",
       "                 98        99  \n",
       "the       -0.119892  0.195552  \n",
       "of        -0.084105  0.050775  \n",
       "influenza  0.175367  0.233977  \n",
       "covid      0.273702  0.036443  \n",
       "19         0.142311 -0.047788  \n",
       "\n",
       "[5 rows x 100 columns]"
      ]
     },
     "execution_count": 9,
     "metadata": {},
     "output_type": "execute_result"
    }
   ],
   "source": [
    "weights = cbow.get_weights()[0]\n",
    "\n",
    "weights = weights[1:]\n",
    "print(weights.shape)\n",
    "\n",
    "pd.DataFrame(weights, index=list(id_to_word_map.values())).head()"
   ]
  },
  {
   "cell_type": "markdown",
   "metadata": {
    "id": "4PmZRQ9SaxiM"
   },
   "source": [
    "## save all the weights to a file"
   ]
  },
  {
   "cell_type": "code",
   "execution_count": null,
   "metadata": {
    "colab": {
     "base_uri": "https://localhost:8080/"
    },
    "id": "ZU3o4yuvW-mx",
    "outputId": "58656786-8538-48ec-cd55-6858520d9135"
   },
   "outputs": [
    {
     "data": {
      "text/plain": [
       "8"
      ]
     },
     "execution_count": 10,
     "metadata": {},
     "output_type": "execute_result"
    }
   ],
   "source": [
    "dimensions = 100\n",
    "vect_file = open(\"./vectors.txt\", \"w\")\n",
    "vect_file.write(\"{} {}\\n\".format(vocab_size, dimensions))"
   ]
  },
  {
   "cell_type": "code",
   "execution_count": null,
   "metadata": {
    "id": "r9ImAVPrcDFK"
   },
   "outputs": [],
   "source": [
    "weights = cbow.get_weights()[0]\n",
    "for text, i in tokenizer.word_index.items():\n",
    "    final_vec = \" \".join(map(str, list(weights[i, :])))\n",
    "    vect_file.write(\"{} {}\\n\".format(text, final_vec))\n",
    "vect_file.close()"
   ]
  },
  {
   "cell_type": "markdown",
   "metadata": {
    "id": "FXRrZs_fSeVy"
   },
   "source": [
    "## use the vectors that were created and use them in the gensim model"
   ]
  },
  {
   "cell_type": "code",
   "execution_count": null,
   "metadata": {
    "colab": {
     "base_uri": "https://localhost:8080/"
    },
    "id": "o563bvdabUe_",
    "outputId": "1a25d555-11a7-4680-f0f0-ed3d4f249f22"
   },
   "outputs": [
    {
     "name": "stdout",
     "output_type": "stream",
     "text": [
      "(103, 103)\n"
     ]
    },
    {
     "data": {
      "text/plain": [
       "{'covid': ['estimates', 'however', 'median', 'very', 'major']}"
      ]
     },
     "execution_count": 12,
     "metadata": {},
     "output_type": "execute_result"
    }
   ],
   "source": [
    "from sklearn.metrics.pairwise import euclidean_distances\n",
    "\n",
    "distance_matrix = euclidean_distances(weights)\n",
    "print(distance_matrix.shape)\n",
    "\n",
    "similar_text = {\n",
    "    search_term: [\n",
    "        id_to_word_map[idx]\n",
    "        for idx in distance_matrix[word_to_id_map[search_term] - 1].argsort()[1:6] + 1\n",
    "    ] for search_term in [\"covid\"]\n",
    "}\n",
    "\n",
    "similar_text"
   ]
  }
 ],
 "metadata": {
  "colab": {
   "provenance": [],
   "toc_visible": true
  },
  "kernelspec": {
   "display_name": "Python 3 (ipykernel)",
   "language": "python",
   "name": "python3"
  },
  "language_info": {
   "codemirror_mode": {
    "name": "ipython",
    "version": 3
   },
   "file_extension": ".py",
   "mimetype": "text/x-python",
   "name": "python",
   "nbconvert_exporter": "python",
   "pygments_lexer": "ipython3",
   "version": "3.10.12"
  }
 },
 "nbformat": 4,
 "nbformat_minor": 1
}
